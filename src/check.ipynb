{
 "cells": [
  {
   "cell_type": "code",
   "execution_count": 6,
   "id": "ebccc75d",
   "metadata": {},
   "outputs": [],
   "source": [
    "import pandas as pd "
   ]
  },
  {
   "cell_type": "code",
   "execution_count": 7,
   "id": "ad2a5a65",
   "metadata": {},
   "outputs": [],
   "source": [
    "df = pd.read_csv(p)"
   ]
  },
  {
   "cell_type": "code",
   "execution_count": 19,
   "id": "bd52e796",
   "metadata": {},
   "outputs": [
    {
     "name": "stdout",
     "output_type": "stream",
     "text": [
      "2025-09-13 12:52\n",
      "2025-09-13 07:52\n",
      "2025-09-25 14:52\n",
      "2025-10-06 17:52\n",
      "2025-10-01 11:52\n",
      "2025-09-19 12:52\n",
      "2025-10-11 15:52\n",
      "2025-10-02 12:52\n",
      "2025-09-20 13:52\n",
      "2025-10-04 11:52\n",
      "2025-10-02 14:52\n",
      "2025-09-18 05:52\n",
      "2025-10-08 12:52\n",
      "2025-10-07 05:52\n",
      "2025-09-16 11:52\n",
      "2025-10-10 15:52\n",
      "2025-09-23 13:52\n",
      "2025-09-27 08:52\n",
      "2025-10-07 10:52\n",
      "2025-09-22 14:52\n"
     ]
    }
   ],
   "source": [
    "for _,b in df.iterrows():\n",
    "    print (b.Time)\n",
    "    "
   ]
  },
  {
   "cell_type": "code",
   "execution_count": 4,
   "id": "58d64889",
   "metadata": {},
   "outputs": [],
   "source": [
    "p =os.path.join(os.getcwd(),'drill_log.csv')"
   ]
  }
 ],
 "metadata": {
  "kernelspec": {
   "display_name": "venv",
   "language": "python",
   "name": "python3"
  },
  "language_info": {
   "codemirror_mode": {
    "name": "ipython",
    "version": 3
   },
   "file_extension": ".py",
   "mimetype": "text/x-python",
   "name": "python",
   "nbconvert_exporter": "python",
   "pygments_lexer": "ipython3",
   "version": "3.13.5"
  }
 },
 "nbformat": 4,
 "nbformat_minor": 5
}
